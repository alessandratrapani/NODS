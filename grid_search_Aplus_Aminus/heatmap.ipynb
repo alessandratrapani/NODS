{
 "cells": [
  {
   "cell_type": "code",
   "execution_count": null,
   "metadata": {
    "metadata": {}
   },
   "outputs": [],
   "source": [
    "import sys\n",
    "import os\n",
    "sys.path.append(os.path.join(os.getcwd(), '..'))\n",
    "from utils import get_spike_activity, sdf, sdf_mean\n",
    "import json\n",
    "import numpy as np\n",
    "import matplotlib.pyplot as plt\n",
    "import seaborn as sns\n",
    "import os\n",
    "import scipy.stats as st\n",
    "import pandas as pd"
   ]
  },
  {
   "cell_type": "code",
   "execution_count": null,
   "metadata": {
    "metadata": {}
   },
   "outputs": [],
   "source": [
    "root_path = \"/home/nomodel/code/NODS/results/grid_search/ord_of_mag/\"\n",
    "with open(\"/home/nomodel/code/NODS/network_configuration.json\", \"r\") as json_file:\n",
    "    net_config = json.load(json_file)"
   ]
  },
  {
   "cell_type": "code",
   "execution_count": null,
   "metadata": {
    "metadata": {}
   },
   "outputs": [],
   "source": [
    "CS_burst_dur = net_config[\"devices\"][\"CS\"][\"parameters\"][\"burst_dur\"]\n",
    "CS_start_first = float(net_config[\"devices\"][\"CS\"][\"parameters\"][\"start_first\"])\n",
    "between_start = net_config[\"devices\"][\"CS\"][\"parameters\"][\"between_start\"]\n",
    "n_trials = net_config[\"devices\"][\"CS\"][\"parameters\"][\"n_trials\"]\n",
    "US_start_first = float(net_config[\"devices\"][\"US\"][\"parameters\"][\"start_first\"])"
   ]
  },
  {
   "cell_type": "code",
   "execution_count": null,
   "metadata": {
    "metadata": {}
   },
   "outputs": [],
   "source": [
    "cell = \"pc_spikes\"\n",
    "\n",
    "grid_search = np.zeros((6,6))\n",
    "grid_frequency = np.zeros((6,6))\n",
    "grid_learning = np.zeros((6,6))\n",
    "\n",
    "for i in range(1,7):\n",
    "    for j in range(1,7):\n",
    "\n",
    "        results_path = root_path + f\"min{i}_plus{1}/\"\n",
    "\n",
    "        spk = get_spike_activity(cell_name=cell, path=results_path)\n",
    "        sdf_mean_over_trials = []\n",
    "        sdf_baseline = np.zeros((n_trials))\n",
    "        sdf_cr = np.zeros((n_trials))\n",
    "        for trial in range(n_trials):\n",
    "\n",
    "            start = trial * between_start\n",
    "            stop = CS_start_first + CS_burst_dur + trial * between_start\n",
    "\n",
    "            sdf_cells = sdf(start=start, stop=stop, spk=spk, step=5)\n",
    "            sdf_mean_trial = sdf_mean(sdf_cells)\n",
    "            sdf_mean_over_trials.append(sdf_mean_trial)\n",
    "            sdf_baseline[trial] = np.mean(sdf_mean_trial[100:150])\n",
    "            sdf_cr[trial] = np.mean(sdf_mean_trial[250:300])\n",
    "\n",
    "        sdf_change_baseline = sdf_baseline[1:] - sdf_baseline[1]\n",
    "        sdf_change_cr = sdf_cr[1:] - sdf_cr[1]\n",
    "    \n",
    "        # learning in respect to the baseline\n",
    "        grid_search[i-1,j-1] = abs(np.mean(sdf_change_baseline[1:]) - np.mean(sdf_change_cr[1:]))\n",
    "        # pc frequency\n",
    "        grid_frequency[i-1,j-1] = np.mean(sdf_cr[-1])\n",
    "        # percentage learning CR\n",
    "        grid_learning[i-1,j-1]  = -abs(np.mean(sdf_change_cr[1])-np.mean(sdf_change_cr[-1]))/np.mean(sdf_change_cr[1])*100\n"
   ]
  },
  {
   "cell_type": "code",
   "execution_count": null,
   "metadata": {},
   "outputs": [],
   "source": [
    "grid_search"
   ]
  },
  {
   "cell_type": "code",
   "execution_count": null,
   "metadata": {},
   "outputs": [],
   "source": [
    "grid_freqency"
   ]
  },
  {
   "cell_type": "code",
   "execution_count": null,
   "metadata": {},
   "outputs": [],
   "source": [
    "grid_learning"
   ]
  },
  {
   "cell_type": "code",
   "execution_count": null,
   "metadata": {},
   "outputs": [],
   "source": [
    "ticks = []\n",
    "for i in range(1,7):\n",
    "    ticks.append(f'10^{-i}')\n",
    "ticks = str(ticks)"
   ]
  },
  {
   "cell_type": "code",
   "execution_count": null,
   "metadata": {},
   "outputs": [],
   "source": [
    "cmap = plt.cm.get_cmap('coolwarm')\n",
    "sns.heatmap(grid_search, cmap = cmap)\n",
    "plt.xlabel('A_plus')\n",
    "plt.ylabel('A_minus')\n",
    "plt.title('CR window learning to baseline')\n",
    "plt.xticks(ticks = ticks)\n",
    "plt.yticks(ticks = ticks)"
   ]
  },
  {
   "cell_type": "code",
   "execution_count": null,
   "metadata": {},
   "outputs": [],
   "source": [
    "cmap = plt.cm.get_cmap('hot')\n",
    "sns.heatmap(grid_search, cmap = cmap)\n",
    "plt.xlabel('A_plus')\n",
    "plt.ylabel('A_minus')\n",
    "plt.title('PC sdf in CR window')\n",
    "plt.xticks(ticks = ticks)\n",
    "plt.yticks(ticks = ticks)"
   ]
  },
  {
   "cell_type": "code",
   "execution_count": null,
   "metadata": {},
   "outputs": [],
   "source": [
    "cmap = plt.cm.get_cmap('summer')\n",
    "sns.heatmap(grid_search, cmap = cmap)\n",
    "plt.xlabel('A_plus')\n",
    "plt.ylabel('A_minus')\n",
    "plt.title('%LTD in CR window')\n",
    "plt.xticks(ticks = ticks)\n",
    "plt.yticks(ticks = ticks)"
   ]
  }
 ],
 "metadata": {
  "kernelspec": {
   "display_name": "NO_env",
   "language": "python",
   "name": "python3"
  },
  "language_info": {
   "codemirror_mode": {
    "name": "ipython",
    "version": 3
   },
   "file_extension": ".py",
   "mimetype": "text/x-python",
   "name": "python",
   "nbconvert_exporter": "python",
   "pygments_lexer": "ipython3",
   "version": "3.8.6"
  }
 },
 "nbformat": 4,
 "nbformat_minor": 2
}
