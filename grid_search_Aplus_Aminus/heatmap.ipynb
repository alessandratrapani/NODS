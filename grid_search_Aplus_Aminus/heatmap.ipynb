{
 "cells": [
  {
   "cell_type": "code",
   "execution_count": 20,
   "metadata": {
    "metadata": {}
   },
   "outputs": [],
   "source": [
    "import sys\n",
    "import os\n",
    "sys.path.append(os.path.join(os.getcwd(), '..'))\n",
    "from utils import get_spike_activity, sdf, sdf_mean, sdf_maf\n",
    "import json\n",
    "import numpy as np\n",
    "import matplotlib.pyplot as plt\n",
    "import seaborn as sns\n",
    "import os\n",
    "import scipy.stats as st\n",
    "import pandas as pd"
   ]
  },
  {
   "cell_type": "code",
   "execution_count": 40,
   "metadata": {
    "metadata": {}
   },
   "outputs": [],
   "source": [
    "result_path = \"/home/nomodel/code/NODS/results/grid_search/\"\n",
    "min = 4\n",
    "max = 5\n",
    "dim = 3\n",
    "folder = f'grid_NO/'\n",
    "result_path = os.path.join(result_path,folder)\n",
    "with open(\"/home/nomodel/code/NODS/network_configuration.json\", \"r\") as json_file:\n",
    "    net_config = json.load(json_file)"
   ]
  },
  {
   "cell_type": "code",
   "execution_count": null,
   "metadata": {},
   "outputs": [],
   "source": [
    "values_min = np.array([7*10**-4, 5*10**-4, 3*10**-4])\n",
    "values_plus = np.array([1.1*10**-4, 9*10**-5, 7*10**-5])\n",
    "\n",
    "values_min = [\"{:.1e}\".format(val) for val in values_min]\n",
    "values_plus = [\"{:.1e}\".format(val) for val in values_plus]"
   ]
  },
  {
   "cell_type": "code",
   "execution_count": 30,
   "metadata": {
    "metadata": {}
   },
   "outputs": [],
   "source": [
    "CS_burst_dur = net_config[\"devices\"][\"CS\"][\"parameters\"][\"burst_dur\"]\n",
    "CS_start_first = float(net_config[\"devices\"][\"CS\"][\"parameters\"][\"start_first\"])\n",
    "between_start = net_config[\"devices\"][\"CS\"][\"parameters\"][\"between_start\"]\n",
    "n_trials = net_config[\"devices\"][\"CS\"][\"parameters\"][\"n_trials\"]\n",
    "US_start_first = float(net_config[\"devices\"][\"US\"][\"parameters\"][\"start_first\"])"
   ]
  },
  {
   "cell_type": "code",
   "execution_count": null,
   "metadata": {},
   "outputs": [],
   "source": [
    "cell = \"pc_spikes\"\n",
    "\n",
    "grid_search = np.zeros((dim,dim))\n",
    "grid_frequency = np.zeros((dim,dim))\n",
    "grid_learning = np.zeros((dim,dim))\n",
    "grid_baseline = np.zeros((dim,dim))\n",
    "\n",
    "for i in range(0,dim+1):\n",
    "    for j in range(0,dim+1):\n",
    "        file_path = result_path + f\"min{i}_plus{j}\"\n",
    "\n",
    "        spk = get_spike_activity(cell_name=cell, path=file_path)\n",
    "        sdf_mean_over_trials = []\n",
    "        sdf_baseline = np.zeros((n_trials))\n",
    "        sdf_cr = np.zeros((n_trials))\n",
    "        for trial in range(n_trials):\n",
    "\n",
    "            start = trial * between_start\n",
    "            stop = CS_start_first + CS_burst_dur + trial * between_start\n",
    "\n",
    "            sdf_cells = sdf(start=start, stop=stop, spk=spk, step=5)\n",
    "            sdf_mean_trial = sdf_mean(sdf_cells)\n",
    "            sdf_mean_over_trials.append(sdf_mean_trial)\n",
    "            sdf_baseline[trial] = np.mean(sdf_mean_trial[100:150])\n",
    "            sdf_cr[trial] = np.mean(sdf_mean_trial[250:300])\n",
    "\n",
    "        sdf_change_baseline = sdf_baseline[1:] - sdf_baseline[1]\n",
    "        sdf_change_cr = sdf_cr[1:] - sdf_cr[1]\n",
    "    \n",
    "        # learning in respect to the baseline\n",
    "        grid_search[i-1,j-1] = (np.median(sdf_change_baseline[-10:]) - np.median(sdf_change_cr[-10:]))\n",
    "        # pc frequency\n",
    "        grid_frequency[i-1,j-1] = sdf_cr[-1]\n",
    "        # percentage change baseline\n",
    "        grid_baseline[i-1,j-1]  = (np.median(sdf_baseline[1:10])-np.median(sdf_baseline[-10:]))/np.median(sdf_baseline[1:10])*100\n",
    "        # percentage learning CR\n",
    "        grid_learning[i-1,j-1]  = (np.median(sdf_cr[1:10])-np.median(sdf_cr[-10:]))/np.median(sdf_cr[1:10])*100"
   ]
  },
  {
   "cell_type": "code",
   "execution_count": 8,
   "metadata": {
    "metadata": {}
   },
   "outputs": [],
   "source": [
    "cell = \"pc_spikes\"\n",
    "\n",
    "min = [8,7,5,4,3,1]\n",
    "plus = [11,9,8,7,4,1]\n",
    "values_min = min\n",
    "values_plus = plus\n",
    "\n",
    "grid_search = np.nan*np.ones((len(min),len(plus)))\n",
    "grid_frequency = np.zeros((len(min),len(plus)))\n",
    "grid_learning = np.zeros((dim,dim))\n",
    "grid_baseline = np.zeros((dim,dim))\n",
    "sim_baseline = np.zeros((len(min),len(plus),100))\n",
    "sim_cr = np.zeros((len(min),len(plus),100))\n",
    "sim_frq = np.zeros((len(min),len(plus),10))\n",
    "\n",
    "\n",
    "\n",
    "\n",
    "for i,m in enumerate(min):\n",
    "    for j,p in enumerate(plus):\n",
    "        folder_path = result_path + f\"min{m}_plus{p}/\"\n",
    "        if not os.path.exists(folder_path):\n",
    "            continue\n",
    "        for k in range (0,10):\n",
    "            file_path = folder_path+ f\"{k}/\"\n",
    "\n",
    "            spk = get_spike_activity(cell_name=cell, path=file_path)\n",
    "            sdf_mean_over_trials = []\n",
    "            \n",
    "            sdf_baseline = np.zeros((n_trials))\n",
    "            sdf_cr = np.zeros((n_trials))\n",
    "            for trial in range(n_trials):\n",
    "\n",
    "                #print(f'trial {trial}, sim {k}, min {m}, plus {p}')\n",
    "                start = trial * between_start\n",
    "                stop = CS_start_first + CS_burst_dur + trial * between_start\n",
    "\n",
    "                sdf_cells = sdf(start=start, stop=stop, spk=spk, step=5)\n",
    "                sdf_mean_trial = sdf_mean(sdf_cells)\n",
    "                sdf_mean_over_trials.append(sdf_mean_trial)\n",
    "                sdf_baseline[trial] = np.mean(sdf_mean_trial[150:200])\n",
    "                sdf_cr[trial] = np.mean(sdf_mean_trial[250:300])\n",
    "\n",
    "            sdf_change_baseline = sdf_baseline[1:] - sdf_baseline[1]\n",
    "            sdf_change_cr = sdf_cr[1:] - sdf_cr[1]\n",
    "        \n",
    "            sim_baseline[i,j,k*10:(k+1)*10] = sdf_change_baseline[-10:]\n",
    "            sim_cr[i,j,k*10:(k+1)*10] = sdf_change_cr[-10:]\n",
    "            sim_frq[i,j,k] = sdf_cr[-1]\n",
    "\n",
    "        # learning in respect to the baseline\n",
    "        grid_search[i,j] = (np.median(sim_baseline[i,j]) - np.median(sim_cr[i,j]))\n",
    "        # pc frequency\n",
    "        grid_frequency[i,j] = np.median(sim_frq[i,j])"
   ]
  },
  {
   "cell_type": "code",
   "execution_count": 9,
   "metadata": {},
   "outputs": [],
   "source": [
    "import pickle\n",
    "\n",
    "with open ('grid_search.pkl', 'wb') as f:\n",
    "    pickle.dump(grid_search, f)\n",
    "\n",
    "with open ('grid_frequency.pkl', 'wb') as f:\n",
    "    pickle.dump(grid_frequency, f)"
   ]
  },
  {
   "cell_type": "code",
   "execution_count": null,
   "metadata": {},
   "outputs": [],
   "source": [
    "for i in range(0,3):\n",
    "    for j in range(0,3):\n",
    "        sdf_mean_trials_simulations = []\n",
    "        for k in range(0,10):\n",
    "\n",
    "            file_path = result_path + f\"min{i}_plus{j}/min{i}_plus{j}_{k}/\"\n",
    "            spk = get_spike_activity(cell_name=cell, path=file_path)\n",
    "\n",
    "            sdf_mean_over_trials = []\n",
    "            step = 5\n",
    "            for trial in range(n_trials):\n",
    "                start = trial * between_start\n",
    "                stop = CS_start_first + CS_burst_dur + trial * between_start\n",
    "                sdf_cells = sdf(start=start, stop=stop, spk=spk, step=5)\n",
    "                sdf_mean_trial = sdf_mean(sdf_cells)\n",
    "                t_sim = len(sdf_mean_trial)\n",
    "                sdf_mean_over_trials.append(sdf_mean_trial)\n",
    "\n",
    "            sdf_mean_trials_simulations.append(sdf_mean_over_trials)\n",
    "        \n",
    "        sdf_mean_trials_simulations = np.array(sdf_mean_trials_simulations)\n",
    "        sdf_concatenated = np.zeros(t_sim)\n",
    "\n",
    "        palette = list(reversed(sns.color_palette(\"viridis\", n_trials).as_hex()))\n",
    "        sm = plt.cm.ScalarMappable(\n",
    "        cmap=\"viridis_r\", norm=plt.Normalize(vmin=0, vmax=n_trials)\n",
    "        )\n",
    "        \n",
    "        fig = plt.figure()\n",
    "        \n",
    "        for trial in range(n_trials):\n",
    "            concatenated_time = []\n",
    "            for t in range(t_sim):\n",
    "                for sim in range(0,10):\n",
    "                    concatenated_time.append(sdf_mean_trials_simulations[sim,trial,t]) \n",
    "                sdf_concatenated[t] = np.median(concatenated_time)\n",
    "            \n",
    "            plt.plot(sdf_concatenated, palette[trial])\n",
    "        plt.title(cell)\n",
    "        plt.xlabel(\"Time [ms]\")\n",
    "        plt.ylabel(\"SDF [Hz]\")\n",
    "        plt.axvline(CS_start_first, label=\"CS start\", c=\"grey\")\n",
    "        plt.axvline(US_start_first - between_start, label=\"US start\", c=\"black\")\n",
    "        plt.axvline(CS_start_first + CS_burst_dur, label=\"CS & US end \", c=\"red\")\n",
    "        plt.legend()\n",
    "        plt.colorbar(sm, label=\"Trial\")\n",
    "        fig.savefig(os.path.join(result_path,f'aa_sdf_{cell}_min{i}_plus{j}.png'))"
   ]
  },
  {
   "cell_type": "code",
   "execution_count": null,
   "metadata": {
    "metadata": {}
   },
   "outputs": [],
   "source": [
    "for i in range(0,4):\n",
    "    for j in range(0,4):\n",
    "\n",
    "        file_path = result_path + f\"min{i}_plus{j}/\"\n",
    "        spk = get_spike_activity(cell_name=cell, path=file_path)\n",
    "\n",
    "        palette = list(reversed(sns.color_palette(\"viridis\", n_trials).as_hex()))\n",
    "        sm = plt.cm.ScalarMappable(\n",
    "        cmap=\"viridis_r\", norm=plt.Normalize(vmin=0, vmax=n_trials)\n",
    "        )\n",
    "        sdf_mean_cell = []\n",
    "        sdf_maf_cell = []\n",
    "        step = 5\n",
    "        for trial in range(n_trials):\n",
    "            start = trial * between_start\n",
    "            stop = CS_start_first + CS_burst_dur + trial * between_start\n",
    "            sdf_cell = sdf(start=start, stop=stop, spk=spk, step=step)\n",
    "            sdf_mean_cell.append(sdf_mean(sdf_cell))\n",
    "            sdf_maf_cell.append(sdf_maf(sdf_cell))\n",
    "\n",
    "        fig = plt.figure()\n",
    "        for trial in range(n_trials):\n",
    "            plt.plot(sdf_mean_cell[trial], palette[trial])\n",
    "        plt.title(cell)\n",
    "        plt.xlabel(\"Time [ms]\")\n",
    "        plt.ylabel(\"SDF [Hz]\")\n",
    "        plt.axvline(CS_start_first, label=\"CS start\", c=\"grey\")\n",
    "        plt.axvline(US_start_first - between_start, label=\"US start\", c=\"black\")\n",
    "        plt.axvline(CS_start_first + CS_burst_dur, label=\"CS & US end \", c=\"red\")\n",
    "        plt.legend()\n",
    "        plt.colorbar(sm, label=\"Trial\")\n",
    "        fig.savefig(os.path.join(result_path,f'aa_sdf_{cell}_min{i}_plus{j}.png'))"
   ]
  },
  {
   "cell_type": "code",
   "execution_count": 35,
   "metadata": {},
   "outputs": [
    {
     "name": "stderr",
     "output_type": "stream",
     "text": [
      "/tmp/ipykernel_861373/167086067.py:53: MatplotlibDeprecationWarning: Unable to determine Axes to steal space for Colorbar. Using gca(), but will raise in the future. Either provide the *cax* argument to use as the Axes for the Colorbar, provide the *ax* argument to steal space from it, or add *mappable* to an Axes.\n",
      "  plt.colorbar(sm, label=\"Trial\")\n"
     ]
    }
   ],
   "source": [
    "cell = \"pc_spikes\"\n",
    "\n",
    "min = [8,7,5,4,3,1]\n",
    "plus = [11,9,8,7,4,1]\n",
    "\n",
    "for i,m in enumerate(min):\n",
    "    for j,p in enumerate(plus):\n",
    "        folder_path = result_path + f\"min{m}_plus{p}/\"\n",
    "        if not os.path.exists(folder_path):\n",
    "            continue\n",
    "\n",
    "        sdf_mean_trials_simulations = []\n",
    "\n",
    "        for k in range(0, 10):\n",
    "            file_path = os.path.join(folder_path, f\"{k}/\")\n",
    "            spk = get_spike_activity(cell_name=cell, path=file_path)\n",
    "\n",
    "            sdf_mean_over_trials = []\n",
    "            step = 5\n",
    "            for trial in range(n_trials):\n",
    "                start = trial * between_start\n",
    "                stop = CS_start_first + CS_burst_dur + trial * between_start\n",
    "                sdf_cells = sdf(start=start, stop=stop, spk=spk, step=step)\n",
    "                sdf_mean_trial = sdf_mean(sdf_cells)\n",
    "                sdf_mean_over_trials.append(sdf_mean_trial)\n",
    "\n",
    "            sdf_mean_trials_simulations.append(sdf_mean_over_trials)\n",
    "        \n",
    "        sdf_mean_trials_simulations = np.array(sdf_mean_trials_simulations)\n",
    "        t_sim = sdf_mean_trials_simulations.shape[2]\n",
    "        sdf_concatenated = np.zeros(t_sim)\n",
    "\n",
    "        palette = list(reversed(sns.color_palette(\"viridis\", n_trials).as_hex()))\n",
    "        sm = plt.cm.ScalarMappable(cmap=\"viridis_r\", norm=plt.Normalize(vmin=0, vmax=n_trials))\n",
    "\n",
    "        fig = plt.figure()\n",
    "\n",
    "        for trial in range(n_trials):\n",
    "            concatenated_time = []\n",
    "            for t in range(t_sim):\n",
    "                concatenated_time = sdf_mean_trials_simulations[:, trial, t].tolist()\n",
    "                sdf_concatenated[t] = np.median(concatenated_time)\n",
    "\n",
    "            plt.plot(sdf_concatenated, color=palette[trial])\n",
    "\n",
    "        plt.title(cell)\n",
    "        plt.xlabel(\"Time [ms]\")\n",
    "        plt.ylabel(\"SDF [Hz]\")\n",
    "        plt.axvline(CS_start_first, label=\"CS start\", c=\"grey\")\n",
    "        plt.axvline(US_start_first - between_start, label=\"US start\", c=\"black\")\n",
    "        plt.axvline(CS_start_first + CS_burst_dur, label=\"CS & US end\", c=\"red\")\n",
    "        plt.legend()\n",
    "        plt.colorbar(sm, label=\"Trial\")\n",
    "        fig.savefig(os.path.join(result_path, f'aa_sdf_{cell}_min{m}_plus{p}.png'))\n",
    "        plt.close(fig)"
   ]
  },
  {
   "cell_type": "code",
   "execution_count": 10,
   "metadata": {
    "metadata": {}
   },
   "outputs": [
    {
     "data": {
      "text/plain": [
       "array([[384.        , 373.        ,   3.60543972, 350.        ,\n",
       "          4.16143171,  -0.43931641],\n",
       "       [  2.63124473,   1.80248124,  -0.83856277,   3.58198024,\n",
       "         -1.41111155, 240.        ],\n",
       "       [  4.88975277,   4.51418414,   1.51464308,   2.27072584,\n",
       "          2.48872605, 175.        ],\n",
       "       [162.        ,   2.39515729,   6.37210629,   1.25935593,\n",
       "          4.49732517,   2.5534925 ],\n",
       "       [  2.02317282,   2.87437294,   1.63418657,   3.50295576,\n",
       "          0.73804369,  28.        ],\n",
       "       [ 22.        ,  18.        ,   2.38769051,  10.        ,\n",
       "          2.53813165,   1.9996108 ]])"
      ]
     },
     "execution_count": 10,
     "metadata": {},
     "output_type": "execute_result"
    }
   ],
   "source": [
    "grid_search"
   ]
  },
  {
   "cell_type": "code",
   "execution_count": 13,
   "metadata": {},
   "outputs": [
    {
     "data": {
      "text/plain": [
       "array([[        nan,         nan,  3.60543972,         nan,  4.16143171,\n",
       "        -0.43931641],\n",
       "       [ 2.63124473,  1.80248124, -0.83856277,  3.58198024, -1.41111155,\n",
       "                nan],\n",
       "       [ 4.88975277,  4.51418414,  1.51464308,  2.27072584,  2.48872605,\n",
       "                nan],\n",
       "       [        nan,  2.39515729,  6.37210629,  1.25935593,  4.49732517,\n",
       "         2.5534925 ],\n",
       "       [ 2.02317282,  2.87437294,  1.63418657,  3.50295576,  0.73804369,\n",
       "                nan],\n",
       "       [        nan,         nan,  2.38769051,         nan,  2.53813165,\n",
       "         1.9996108 ]])"
      ]
     },
     "execution_count": 13,
     "metadata": {},
     "output_type": "execute_result"
    }
   ],
   "source": [
    "grid_search_new = np.copy(grid_search)\n",
    "grid_search_new[grid_search_new > 7] = np.nan\n",
    "grid_search_new"
   ]
  },
  {
   "cell_type": "code",
   "execution_count": null,
   "metadata": {},
   "outputs": [],
   "source": [
    "np.median(grid_search)"
   ]
  },
  {
   "cell_type": "code",
   "execution_count": 18,
   "metadata": {
    "metadata": {}
   },
   "outputs": [
    {
     "data": {
      "text/plain": [
       "array([[377.        , 364.        , 131.80470124, 346.        ,\n",
       "        129.96105785, 200.46210754],\n",
       "       [137.39118661, 136.75779792, 198.76017126, 136.42896689,\n",
       "        198.06113163, 247.        ],\n",
       "       [145.0323428 , 145.6829245 , 190.07935948, 144.72168963,\n",
       "        188.51783442, 190.        ],\n",
       "       [175.        , 185.54188733, 149.04829412, 185.87930423,\n",
       "        148.34960344, 147.74405502],\n",
       "       [156.12249922, 154.63986932, 179.35409957, 152.9119103 ,\n",
       "        180.13603172,  62.        ],\n",
       "       [ 52.        ,  41.        , 163.3690519 ,  19.        ,\n",
       "        161.43044824, 160.66620714]])"
      ]
     },
     "execution_count": 18,
     "metadata": {},
     "output_type": "execute_result"
    }
   ],
   "source": [
    "grid_frequency"
   ]
  },
  {
   "cell_type": "code",
   "execution_count": null,
   "metadata": {
    "metadata": {}
   },
   "outputs": [],
   "source": [
    "grid_learning"
   ]
  },
  {
   "cell_type": "code",
   "execution_count": 16,
   "metadata": {
    "metadata": {}
   },
   "outputs": [
    {
     "name": "stderr",
     "output_type": "stream",
     "text": [
      "/tmp/ipykernel_861373/413724497.py:1: MatplotlibDeprecationWarning: The get_cmap function was deprecated in Matplotlib 3.7 and will be removed two minor releases later. Use ``matplotlib.colormaps[name]`` or ``matplotlib.colormaps.get_cmap(obj)`` instead.\n",
      "  cmap = plt.cm.get_cmap('coolwarm')\n"
     ]
    },
    {
     "data": {
      "image/png": "[encoded data removed]",
      "text/plain": [
       "<Figure size 640x480 with 2 Axes>"
      ]
     },
     "metadata": {},
     "output_type": "display_data"
    }
   ],
   "source": [
    "cmap = plt.cm.get_cmap('coolwarm')\n",
    "sns.heatmap(grid_search_new, cmap = cmap, xticklabels=values_plus, yticklabels=values_min)\n",
    "plt.xlabel('A_plus')\n",
    "plt.ylabel('A_minus')\n",
    "plt.title('CR window learning to baseline')\n",
    "plt.savefig(os.path.join(result_path,'heatmap_baseline-CR'))"
   ]
  },
  {
   "cell_type": "code",
   "execution_count": 17,
   "metadata": {},
   "outputs": [
    {
     "name": "stderr",
     "output_type": "stream",
     "text": [
      "/tmp/ipykernel_861373/183677828.py:1: MatplotlibDeprecationWarning: The get_cmap function was deprecated in Matplotlib 3.7 and will be removed two minor releases later. Use ``matplotlib.colormaps[name]`` or ``matplotlib.colormaps.get_cmap(obj)`` instead.\n",
      "  cmap = plt.cm.get_cmap('coolwarm')\n"
     ]
    },
    {
     "data": {
      "image/png": "[encoded data removed]",
      "text/plain": [
       "<Figure size 640x480 with 2 Axes>"
      ]
     },
     "metadata": {},
     "output_type": "display_data"
    }
   ],
   "source": [
    "cmap = plt.cm.get_cmap('coolwarm')\n",
    "sns.heatmap(grid_search[1:5,1:5], cmap = cmap, xticklabels=values_plus[1:5], yticklabels=values_min[1:5])\n",
    "plt.xlabel('A_plus')\n",
    "plt.ylabel('A_minus')\n",
    "plt.title('CR window learning to baseline')\n",
    "plt.savefig(os.path.join(result_path,'heatmap_baseline-CR_zoom'))\n"
   ]
  },
  {
   "cell_type": "code",
   "execution_count": 19,
   "metadata": {
    "metadata": {}
   },
   "outputs": [
    {
     "name": "stderr",
     "output_type": "stream",
     "text": [
      "/tmp/ipykernel_861373/1013634547.py:1: MatplotlibDeprecationWarning: The get_cmap function was deprecated in Matplotlib 3.7 and will be removed two minor releases later. Use ``matplotlib.colormaps[name]`` or ``matplotlib.colormaps.get_cmap(obj)`` instead.\n",
      "  cmap = plt.cm.get_cmap('hot')\n"
     ]
    },
    {
     "data": {
      "image/png": "[encoded data removed]",
      "text/plain": [
       "<Figure size 640x480 with 2 Axes>"
      ]
     },
     "metadata": {},
     "output_type": "display_data"
    }
   ],
   "source": [
    "cmap = plt.cm.get_cmap('hot')\n",
    "sns.heatmap(grid_frequency, cmap = cmap, vmin = 100, vmax = 200)\n",
    "plt.xlabel('A_plus')\n",
    "plt.ylabel('A_minus')\n",
    "plt.title('PC sdf in CR window')\n",
    "plt.savefig(os.path.join(result_path,'heatmap_frequency_PC'))"
   ]
  },
  {
   "cell_type": "code",
   "execution_count": null,
   "metadata": {
    "metadata": {}
   },
   "outputs": [],
   "source": [
    "cmap = plt.cm.get_cmap('coolwarm')\n",
    "sns.heatmap(grid_learning, cmap = cmap, vmin = 0, vmax = 3, xticklabels=values_plus, yticklabels=values_min)\n",
    "plt.xlabel('A_plus')\n",
    "plt.ylabel('A_minus')\n",
    "plt.title('%LTD in CR window')\n",
    "plt.savefig(os.path.join(result_path,'heatmap_CR'))"
   ]
  },
  {
   "cell_type": "code",
   "execution_count": null,
   "metadata": {
    "metadata": {}
   },
   "outputs": [],
   "source": [
    "cmap = plt.cm.get_cmap('coolwarm')\n",
    "sns.heatmap(grid_baseline, cmap = cmap, vmin = -3, vmax = 0, xticklabels=values_plus, yticklabels=values_min)\n",
    "plt.xlabel('A_plus')\n",
    "plt.ylabel('A_minus')\n",
    "plt.title('%LTD in baseline')\n",
    "plt.savefig(os.path.join(result_path,'heatmap_baseline'))"
   ]
  },
  {
   "cell_type": "code",
   "execution_count": null,
   "metadata": {},
   "outputs": [],
   "source": [
    "cmap = plt.cm.get_cmap('coolwarm')\n",
    "sns.heatmap(grid_learning-grid_baseline, cmap = cmap, vmin = 0, vmax = 4, xticklabels=values_plus, yticklabels=values_min)\n",
    "plt.xlabel('A_plus')\n",
    "plt.ylabel('A_minus')\n",
    "plt.title('%LTD difference')\n",
    "plt.savefig(os.path.join(result_path,'heatmap_difference'))"
   ]
  },
  {
   "cell_type": "code",
   "execution_count": null,
   "metadata": {},
   "outputs": [],
   "source": [
    "np.logspace(-3,-6, 6)"
   ]
  },
  {
   "cell_type": "code",
   "execution_count": null,
   "metadata": {},
   "outputs": [],
   "source": [
    "cell = \"pc_spikes\"\n",
    "\n",
    "grid_search = np.zeros((dim,dim))\n",
    "grid_frequency = np.zeros((dim,dim))\n",
    "grid_learning = np.zeros((dim,dim))\n",
    "grid_baseline = np.zeros((dim,dim))\n",
    "\n",
    "for i in range(0,dim+1):\n",
    "    for j in range(0,dim+1):\n",
    "        for k in range (0,10):\n",
    "            file_path = result_path + f\"min{i}_plus{j}/min{i}_plus{j}_{k}\"\n",
    "\n",
    "            spk = get_spike_activity(cell_name=cell, path=file_path)\n",
    "            sdf_mean_over_trials = []\n",
    "            sdf_baseline = np.zeros((n_trials))\n",
    "            sdf_cr = np.zeros((n_trials))\n",
    "            for trial in range(n_trials):\n",
    "\n",
    "                start = trial * between_start\n",
    "                stop = CS_start_first + CS_burst_dur + trial * between_start\n",
    "\n",
    "                sdf_cells = sdf(start=start, stop=stop, spk=spk, step=5)\n",
    "                sdf_mean_trial = sdf_mean(sdf_cells)\n",
    "                sdf_mean_over_trials.append(sdf_mean_trial)\n",
    "                sdf_baseline[trial] = np.mean(sdf_mean_trial[100:150])\n",
    "                sdf_cr[trial] = np.mean(sdf_mean_trial[250:300])\n",
    "\n",
    "            sdf_change_baseline = sdf_baseline[1:] - sdf_baseline[1]\n",
    "            sdf_change_cr = sdf_cr[1:] - sdf_cr[1]\n",
    "        \n",
    "            # learning in respect to the baseline\n",
    "            grid_search[i-1,j-1] = (np.median(sdf_change_baseline[-10:]) - np.median(sdf_change_cr[-10:]))\n",
    "            # pc frequency\n",
    "            grid_frequency[i-1,j-1] = sdf_cr[-1]\n",
    "            # percentage change baseline\n",
    "            grid_baseline[i-1,j-1]  = (np.median(sdf_baseline[1:10])-np.median(sdf_baseline[-10:]))/np.median(sdf_baseline[1:10])*100\n",
    "            # percentage learning CR\n",
    "            grid_learning[i-1,j-1]  = (np.median(sdf_cr[1:10])-np.median(sdf_cr[-10:]))/np.median(sdf_cr[1:10])*100"
   ]
  },
  {
   "cell_type": "code",
   "execution_count": null,
   "metadata": {},
   "outputs": [],
   "source": [
    "file_path = result_path + f\"min{1}_plus{1}/min{1}_plus{1}_{0}/\"\n",
    "spk = get_spike_activity(cell_name=cell, path=file_path)\n",
    "\n",
    "sdf_mean_over_trials = []\n",
    "step = 5\n",
    "for trial in range(n_trials):\n",
    "    start = trial * between_start\n",
    "    stop = CS_start_first + CS_burst_dur + trial * between_start\n",
    "    sdf_cells = sdf(start=start, stop=stop, spk=spk, step=5)\n",
    "    sdf_mean_trial = sdf_mean(sdf_cells)\n",
    "    t_sim = len(sdf_mean_trial)\n",
    "    sdf_mean_over_trials.append(sdf_mean_trial)\n",
    "    sdf_mean_cell.append(sdf_mean(sdf_cells))\n",
    "\n",
    "\"\"\"sdf_mean_trials_simulations.append(sdf_mean_over_trials)\n",
    "\n",
    "sdf_mean_trials_simulations = np.array(sdf_mean_trials_simulations)\n",
    "sdf_concatenated = np.zeros(t_sim)\"\"\"\n",
    "\n",
    "palette = list(reversed(sns.color_palette(\"viridis\", n_trials).as_hex()))\n",
    "sm = plt.cm.ScalarMappable(\n",
    "cmap=\"viridis_r\", norm=plt.Normalize(vmin=0, vmax=n_trials)\n",
    ")\n",
    "\n",
    "fig = plt.figure()\n",
    "for trial in range(n_trials):\n",
    "    plt.plot(sdf_mean_cell[trial], palette[trial])\n",
    "plt.title(cell)\n",
    "plt.xlabel(\"Time [ms]\")\n",
    "plt.ylabel(\"SDF [Hz]\")\n",
    "plt.axvline(CS_start_first, label=\"CS start\", c=\"grey\")\n",
    "plt.axvline(US_start_first - between_start, label=\"US start\", c=\"black\")\n",
    "plt.axvline(CS_start_first + CS_burst_dur, label=\"CS & US end \", c=\"red\")\n",
    "plt.legend()\n",
    "plt.colorbar(sm, label=\"Trial\")\n",
    "fig.savefig(os.path.join(result_path,f'aa_sdf_{cell}_min{i}_plus{j}.png'))"
   ]
  },
  {
   "cell_type": "code",
   "execution_count": 41,
   "metadata": {},
   "outputs": [],
   "source": [
    "cell = \"pc_spikes\"\n",
    "\n",
    "file_path = result_path + f\"min4_plus8/\"\n",
    "\n",
    "spk = get_spike_activity(cell_name=cell, path=file_path)\n",
    "sdf_mean_over_trials = []\n",
    "\n",
    "sdf_baseline = np.zeros((n_trials))\n",
    "sdf_cr = np.zeros((n_trials))\n",
    "for trial in range(n_trials):\n",
    "\n",
    "    #print(f'trial {trial}, sim {k}, min {m}, plus {p}')\n",
    "    start = trial * between_start\n",
    "    stop = CS_start_first + CS_burst_dur + trial * between_start\n",
    "\n",
    "    sdf_cells = sdf(start=start, stop=stop, spk=spk, step=5)\n",
    "    sdf_mean_trial = sdf_mean(sdf_cells)\n",
    "    sdf_mean_over_trials.append(sdf_mean_trial)\n",
    "    sdf_baseline[trial] = np.mean(sdf_mean_trial[150:200])\n",
    "    sdf_cr[trial] = np.mean(sdf_mean_trial[250:300])\n",
    "\n",
    "sdf_change_baseline = sdf_baseline[1:] - sdf_baseline[1]\n",
    "sdf_change_cr = sdf_cr[1:] - sdf_cr[1]\n",
    "\n",
    "median = np.median(sdf_change_baseline[-10:])-np.median(sdf_change_cr[-10:])"
   ]
  },
  {
   "cell_type": "code",
   "execution_count": 42,
   "metadata": {},
   "outputs": [
    {
     "data": {
      "text/plain": [
       "3.2976592166603638"
      ]
     },
     "execution_count": 42,
     "metadata": {},
     "output_type": "execute_result"
    }
   ],
   "source": [
    "median"
   ]
  },
  {
   "cell_type": "code",
   "execution_count": null,
   "metadata": {},
   "outputs": [],
   "source": []
  },
  {
   "cell_type": "markdown",
   "metadata": {},
   "source": [
    "## A_minus = -0.0005\n",
    "## A_plus = 0.0000225"
   ]
  }
 ],
 "metadata": {
  "kernelspec": {
   "display_name": "NO_env",
   "language": "python",
   "name": "python3"
  },
  "language_info": {
   "codemirror_mode": {
    "name": "ipython",
    "version": 3
   },
   "file_extension": ".py",
   "mimetype": "text/x-python",
   "name": "python",
   "nbconvert_exporter": "python",
   "pygments_lexer": "ipython3",
   "version": "3.8.6"
  }
 },
 "nbformat": 4,
 "nbformat_minor": 2
}
